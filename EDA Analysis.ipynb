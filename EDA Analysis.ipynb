{
 "cells": [
  {
   "cell_type": "code",
   "execution_count": 1,
   "id": "971d19ac",
   "metadata": {},
   "outputs": [],
   "source": [
    "import pandas as pd\n",
    "import seaborn as sns\n",
    "import matplotlib.pyplot as plt"
   ]
  },
  {
   "cell_type": "markdown",
   "id": "23469942",
   "metadata": {},
   "source": [
    "# Importing Data"
   ]
  },
  {
   "cell_type": "code",
   "execution_count": 2,
   "id": "3e66d42e",
   "metadata": {},
   "outputs": [
    {
     "data": {
      "image/png": "[encoded data removed]",
      "text/plain": [
       "<Figure size 640x480 with 1 Axes>"
      ]
     },
     "metadata": {},
     "output_type": "display_data"
    }
   ],
   "source": [
    "data_train = pd.read_csv('Mushroom_datasets/mushroom_train.csv')\n",
    "data_test = pd.read_csv('Mushroom_datasets/mushroom_test.csv')\n",
    "label_count = data_train['class'].value_counts()\n",
    "\n",
    "plt.hist(data_train['class'], edgecolor='black')\n",
    "plt.xticks(range(2), ['Poisonous', 'Edible'], fontsize=10)\n",
    "#plt.title('Distribution of Mushroom Types in Training Data', fontsize=14)\n",
    "plt.show()"
   ]
  },
  {
   "cell_type": "code",
   "execution_count": 3,
   "id": "ed93ee06",
   "metadata": {},
   "outputs": [
    {
     "name": "stdout",
     "output_type": "stream",
     "text": [
      "Train dataset\n",
      "--------------------------------------------------\n",
      "cap-shape: 7\n",
      "cap-surface: 11\n",
      "cap-color: 12\n",
      "does-bruise-or-bleed: 2\n",
      "gill-attachment: 7\n",
      "gill-spacing: 3\n",
      "gill-color: 12\n",
      "stem-color: 13\n",
      "has-ring: 2\n",
      "ring-type: 8\n",
      "habitat: 8\n",
      "season: 4\n",
      "class: 2\n"
     ]
    }
   ],
   "source": [
    "train_count = {}\n",
    "features = features = [col for col in data_train.columns if data_train[col].dtype == 'object']\n",
    "for i in features:\n",
    "    train_count[i] = data_train[i].nunique()\n",
    "\n",
    "print(\"Train dataset\")\n",
    "print(\"-\"*50)\n",
    "for i in train_count.keys():\n",
    "    print(i+':', train_count[i])"
   ]
  },
  {
   "cell_type": "code",
   "execution_count": 4,
   "id": "c461ef57",
   "metadata": {},
   "outputs": [
    {
     "name": "stdout",
     "output_type": "stream",
     "text": [
      "cap-shape\n",
      "--------------------------------------------------\n",
      "c: 1288\n",
      "x: 18808\n",
      "s: 5079\n",
      "o: 2417\n",
      "f: 9289\n",
      "b: 4043\n",
      "p: 1824\n",
      "\n",
      "cap-surface\n",
      "--------------------------------------------------\n",
      "i: 1599\n",
      "y: 4460\n",
      "t: 15569\n",
      "d: 3125\n",
      "g: 3280\n",
      "h: 3482\n",
      "k: 1602\n",
      "s: 5341\n",
      "e: 1789\n",
      "w: 1494\n",
      "l: 1007\n",
      "\n",
      "cap-color\n",
      "--------------------------------------------------\n",
      "y: 6026\n",
      "r: 1227\n",
      "n: 16960\n",
      "w: 5402\n",
      "g: 3072\n",
      "k: 907\n",
      "o: 2581\n",
      "l: 580\n",
      "e: 2781\n",
      "u: 1181\n",
      "b: 870\n",
      "p: 1161\n",
      "\n",
      "does-bruise-or-bleed\n",
      "--------------------------------------------------\n",
      "f: 35279\n",
      "t: 7469\n",
      "\n",
      "gill-attachment\n",
      "--------------------------------------------------\n",
      "a: 15844\n",
      "d: 7133\n",
      "p: 4185\n",
      "x: 5174\n",
      "e: 3998\n",
      "f: 2501\n",
      "s: 3913\n",
      "\n",
      "gill-spacing\n",
      "--------------------------------------------------\n",
      "c: 34791\n",
      "d: 5456\n",
      "f: 2501\n",
      "\n",
      "gill-color\n",
      "--------------------------------------------------\n",
      "n: 6742\n",
      "w: 12893\n",
      "g: 2860\n",
      "y: 6743\n",
      "p: 4178\n",
      "k: 1697\n",
      "f: 2501\n",
      "b: 662\n",
      "e: 756\n",
      "o: 2041\n",
      "r: 962\n",
      "u: 713\n",
      "\n",
      "stem-color\n",
      "--------------------------------------------------\n",
      "w: 15996\n",
      "y: 5547\n",
      "n: 12678\n",
      "r: 383\n",
      "o: 1512\n",
      "g: 1841\n",
      "l: 150\n",
      "e: 1431\n",
      "u: 1031\n",
      "f: 745\n",
      "k: 599\n",
      "p: 710\n",
      "b: 125\n",
      "\n",
      "has-ring\n",
      "--------------------------------------------------\n",
      "f: 32085\n",
      "t: 10663\n",
      "\n",
      "ring-type\n",
      "--------------------------------------------------\n",
      "f: 35581\n",
      "r: 1013\n",
      "e: 1703\n",
      "z: 1418\n",
      "l: 998\n",
      "p: 907\n",
      "g: 888\n",
      "m: 240\n",
      "\n",
      "habitat\n",
      "--------------------------------------------------\n",
      "d: 30945\n",
      "h: 1444\n",
      "g: 5486\n",
      "l: 2244\n",
      "m: 2041\n",
      "w: 259\n",
      "p: 245\n",
      "u: 84\n",
      "\n",
      "season\n",
      "--------------------------------------------------\n",
      "a: 21053\n",
      "u: 16065\n",
      "w: 3669\n",
      "s: 1961\n",
      "\n",
      "class\n",
      "--------------------------------------------------\n",
      "p: 23595\n",
      "e: 19153\n",
      "\n"
     ]
    }
   ],
   "source": [
    "for i in features:\n",
    "    print(i)\n",
    "    print('-'*50)\n",
    "    l = data_train[i].unique()\n",
    "    for j in l:\n",
    "        print(j+':', len(data_train[data_train[i]==j]))\n",
    "    print()"
   ]
  },
  {
   "cell_type": "code",
   "execution_count": 5,
   "id": "1e851a51",
   "metadata": {},
   "outputs": [
    {
     "data": {
      "text/plain": [
       "(42748, 16)"
      ]
     },
     "execution_count": 5,
     "metadata": {},
     "output_type": "execute_result"
    }
   ],
   "source": [
    "data_train.shape"
   ]
  },
  {
   "cell_type": "code",
   "execution_count": 6,
   "id": "0289e594",
   "metadata": {},
   "outputs": [
    {
     "data": {
      "text/plain": [
       "(18321, 16)"
      ]
     },
     "execution_count": 6,
     "metadata": {},
     "output_type": "execute_result"
    }
   ],
   "source": [
    "data_test.shape"
   ]
  },
  {
   "cell_type": "code",
   "execution_count": 7,
   "id": "701d8ee2",
   "metadata": {},
   "outputs": [],
   "source": [
    "sum_one = data_train[data_train['class'] == 'e'].count()"
   ]
  },
  {
   "cell_type": "code",
   "execution_count": 8,
   "id": "b107ac16",
   "metadata": {},
   "outputs": [
    {
     "name": "stdout",
     "output_type": "stream",
     "text": [
      "cap-diameter            19153\n",
      "cap-shape               19153\n",
      "cap-surface             19153\n",
      "cap-color               19153\n",
      "does-bruise-or-bleed    19153\n",
      "gill-attachment         19153\n",
      "gill-spacing            19153\n",
      "gill-color              19153\n",
      "stem-height             19153\n",
      "stem-width              19153\n",
      "stem-color              19153\n",
      "has-ring                19153\n",
      "ring-type               19153\n",
      "habitat                 19153\n",
      "season                  19153\n",
      "class                   19153\n",
      "dtype: int64\n"
     ]
    }
   ],
   "source": [
    "print(sum_one)"
   ]
  },
  {
   "cell_type": "code",
   "execution_count": 9,
   "id": "38c7f953",
   "metadata": {},
   "outputs": [
    {
     "data": {
      "text/plain": [
       "0.5519556470478151"
      ]
     },
     "execution_count": 9,
     "metadata": {},
     "output_type": "execute_result"
    }
   ],
   "source": [
    "23595/data_train.shape[0]"
   ]
  },
  {
   "cell_type": "code",
   "execution_count": 10,
   "id": "85162426",
   "metadata": {},
   "outputs": [
    {
     "data": {
      "text/plain": [
       "0.4480443529521849"
      ]
     },
     "execution_count": 10,
     "metadata": {},
     "output_type": "execute_result"
    }
   ],
   "source": [
    "1-0.5519556470478151"
   ]
  },
  {
   "cell_type": "code",
   "execution_count": 11,
   "id": "bd572ba5",
   "metadata": {},
   "outputs": [
    {
     "data": {
      "text/html": [
       "<div>\n",
       "<style scoped>\n",
       "    .dataframe tbody tr th:only-of-type {\n",
       "        vertical-align: middle;\n",
       "    }\n",
       "\n",
       "    .dataframe tbody tr th {\n",
       "        vertical-align: top;\n",
       "    }\n",
       "\n",
       "    .dataframe thead th {\n",
       "        text-align: right;\n",
       "    }\n",
       "</style>\n",
       "<table border=\"1\" class=\"dataframe\">\n",
       "  <thead>\n",
       "    <tr style=\"text-align: right;\">\n",
       "      <th></th>\n",
       "      <th>cap-diameter</th>\n",
       "      <th>stem-height</th>\n",
       "      <th>stem-width</th>\n",
       "    </tr>\n",
       "  </thead>\n",
       "  <tbody>\n",
       "    <tr>\n",
       "      <th>count</th>\n",
       "      <td>42748.000000</td>\n",
       "      <td>42748.000000</td>\n",
       "      <td>42748.000000</td>\n",
       "    </tr>\n",
       "    <tr>\n",
       "      <th>mean</th>\n",
       "      <td>6.714149</td>\n",
       "      <td>6.583224</td>\n",
       "      <td>12.117692</td>\n",
       "    </tr>\n",
       "    <tr>\n",
       "      <th>std</th>\n",
       "      <td>5.220008</td>\n",
       "      <td>3.368333</td>\n",
       "      <td>10.004874</td>\n",
       "    </tr>\n",
       "    <tr>\n",
       "      <th>min</th>\n",
       "      <td>0.380000</td>\n",
       "      <td>0.000000</td>\n",
       "      <td>0.000000</td>\n",
       "    </tr>\n",
       "    <tr>\n",
       "      <th>25%</th>\n",
       "      <td>3.480000</td>\n",
       "      <td>4.640000</td>\n",
       "      <td>5.180000</td>\n",
       "    </tr>\n",
       "    <tr>\n",
       "      <th>50%</th>\n",
       "      <td>5.865000</td>\n",
       "      <td>5.960000</td>\n",
       "      <td>10.200000</td>\n",
       "    </tr>\n",
       "    <tr>\n",
       "      <th>75%</th>\n",
       "      <td>8.530000</td>\n",
       "      <td>7.750000</td>\n",
       "      <td>16.540000</td>\n",
       "    </tr>\n",
       "    <tr>\n",
       "      <th>max</th>\n",
       "      <td>62.340000</td>\n",
       "      <td>33.920000</td>\n",
       "      <td>103.910000</td>\n",
       "    </tr>\n",
       "  </tbody>\n",
       "</table>\n",
       "</div>"
      ],
      "text/plain": [
       "       cap-diameter   stem-height    stem-width\n",
       "count  42748.000000  42748.000000  42748.000000\n",
       "mean       6.714149      6.583224     12.117692\n",
       "std        5.220008      3.368333     10.004874\n",
       "min        0.380000      0.000000      0.000000\n",
       "25%        3.480000      4.640000      5.180000\n",
       "50%        5.865000      5.960000     10.200000\n",
       "75%        8.530000      7.750000     16.540000\n",
       "max       62.340000     33.920000    103.910000"
      ]
     },
     "execution_count": 11,
     "metadata": {},
     "output_type": "execute_result"
    }
   ],
   "source": [
    "data_train.describe()"
   ]
  },
  {
   "cell_type": "code",
   "execution_count": 12,
   "id": "f498d14f",
   "metadata": {},
   "outputs": [
    {
     "data": {
      "image/png": "[encoded data removed]",
      "text/plain": [
       "<Figure size 640x480 with 1 Axes>"
      ]
     },
     "metadata": {},
     "output_type": "display_data"
    },
    {
     "data": {
      "image/png": "[encoded data removed]",
      "text/plain": [
       "<Figure size 640x480 with 1 Axes>"
      ]
     },
     "metadata": {},
     "output_type": "display_data"
    },
    {
     "data": {
      "image/png": "[encoded data removed]",
      "text/plain": [
       "<Figure size 640x480 with 1 Axes>"
      ]
     },
     "metadata": {},
     "output_type": "display_data"
    }
   ],
   "source": [
    "features = ['cap-diameter', 'stem-width', 'stem-height']\n",
    "for i in features:\n",
    "    edible = data_train.loc[data_train['class']=='e', [i]]\n",
    "    counts = edible[i].value_counts()\n",
    "    # Create a line graph\n",
    "    plt.plot(counts.values, counts.index)\n",
    "    plt.show()"
   ]
  },
  {
   "cell_type": "code",
   "execution_count": 13,
   "id": "7afc55cd",
   "metadata": {},
   "outputs": [
    {
     "data": {
      "text/html": [
       "<div>\n",
       "<style scoped>\n",
       "    .dataframe tbody tr th:only-of-type {\n",
       "        vertical-align: middle;\n",
       "    }\n",
       "\n",
       "    .dataframe tbody tr th {\n",
       "        vertical-align: top;\n",
       "    }\n",
       "\n",
       "    .dataframe thead th {\n",
       "        text-align: right;\n",
       "    }\n",
       "</style>\n",
       "<table border=\"1\" class=\"dataframe\">\n",
       "  <thead>\n",
       "    <tr style=\"text-align: right;\">\n",
       "      <th></th>\n",
       "      <th>cap-diameter</th>\n",
       "    </tr>\n",
       "  </thead>\n",
       "  <tbody>\n",
       "    <tr>\n",
       "      <th>2</th>\n",
       "      <td>11.44</td>\n",
       "    </tr>\n",
       "    <tr>\n",
       "      <th>4</th>\n",
       "      <td>7.55</td>\n",
       "    </tr>\n",
       "    <tr>\n",
       "      <th>9</th>\n",
       "      <td>5.94</td>\n",
       "    </tr>\n",
       "    <tr>\n",
       "      <th>13</th>\n",
       "      <td>1.41</td>\n",
       "    </tr>\n",
       "    <tr>\n",
       "      <th>15</th>\n",
       "      <td>8.49</td>\n",
       "    </tr>\n",
       "    <tr>\n",
       "      <th>...</th>\n",
       "      <td>...</td>\n",
       "    </tr>\n",
       "    <tr>\n",
       "      <th>42740</th>\n",
       "      <td>4.72</td>\n",
       "    </tr>\n",
       "    <tr>\n",
       "      <th>42741</th>\n",
       "      <td>9.13</td>\n",
       "    </tr>\n",
       "    <tr>\n",
       "      <th>42742</th>\n",
       "      <td>1.20</td>\n",
       "    </tr>\n",
       "    <tr>\n",
       "      <th>42745</th>\n",
       "      <td>45.84</td>\n",
       "    </tr>\n",
       "    <tr>\n",
       "      <th>42746</th>\n",
       "      <td>10.91</td>\n",
       "    </tr>\n",
       "  </tbody>\n",
       "</table>\n",
       "<p>19153 rows × 1 columns</p>\n",
       "</div>"
      ],
      "text/plain": [
       "       cap-diameter\n",
       "2             11.44\n",
       "4              7.55\n",
       "9              5.94\n",
       "13             1.41\n",
       "15             8.49\n",
       "...             ...\n",
       "42740          4.72\n",
       "42741          9.13\n",
       "42742          1.20\n",
       "42745         45.84\n",
       "42746         10.91\n",
       "\n",
       "[19153 rows x 1 columns]"
      ]
     },
     "execution_count": 13,
     "metadata": {},
     "output_type": "execute_result"
    }
   ],
   "source": [
    "data_train.loc[data_train['class']=='e', ['cap-diameter']]"
   ]
  },
  {
   "cell_type": "code",
   "execution_count": null,
   "id": "34081748",
   "metadata": {},
   "outputs": [],
   "source": []
  }
 ],
 "metadata": {
  "kernelspec": {
   "display_name": "Python 3 (ipykernel)",
   "language": "python",
   "name": "python3"
  },
  "language_info": {
   "codemirror_mode": {
    "name": "ipython",
    "version": 3
   },
   "file_extension": ".py",
   "mimetype": "text/x-python",
   "name": "python",
   "nbconvert_exporter": "python",
   "pygments_lexer": "ipython3",
   "version": "3.8.15"
  }
 },
 "nbformat": 4,
 "nbformat_minor": 5
}
